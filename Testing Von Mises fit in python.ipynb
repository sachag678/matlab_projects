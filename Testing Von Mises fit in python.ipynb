{
 "cells": [
  {
   "cell_type": "code",
   "execution_count": 1,
   "metadata": {
    "collapsed": true
   },
   "outputs": [],
   "source": [
    "import numpy as np\n",
    "from scipy.stats import vonmises\n",
    "import math"
   ]
  },
  {
   "cell_type": "code",
   "execution_count": 2,
   "metadata": {
    "collapsed": true
   },
   "outputs": [],
   "source": [
    "def calc(data):\n",
    "    '''Takes a 1-D dataset and uses the scipy von mises to learn parameters and also calculates them by hand\n",
    "    using the regular M.L estimation for mean and the bannerjee et al (2005) approximation for concentraion factor\n",
    "    params: 1-D dataset in radians\n",
    "    '''\n",
    "    res = vonmises.fit(data, fscale=1)\n",
    "    mu = np.arctan2(sum(np.sin(data)),sum(np.cos(data)))\n",
    "    A = sum(np.cos(data))*(1/len(data))*np.cos(mu)+sum(np.sin(data))*np.sin(mu)*(1/len(data))\n",
    "    k = A*(2-A**2)/(1-A**2)\n",
    "    print('mu and k by hand: ', mu, k)\n",
    "    print('mu and k from fit function', res[1],res[0])"
   ]
  },
  {
   "cell_type": "code",
   "execution_count": 3,
   "metadata": {},
   "outputs": [
    {
     "name": "stdout",
     "output_type": "stream",
     "text": [
      "mu and k by hand:  0.471238898038 41.3480495503\n",
      "mu and k from fit function 0.471238858132 40.8666881759\n"
     ]
    }
   ],
   "source": [
    "data2 = [0.2*math.pi,0.1*math.pi]\n",
    "calc(data2)"
   ]
  },
  {
   "cell_type": "code",
   "execution_count": 4,
   "metadata": {},
   "outputs": [
    {
     "name": "stdout",
     "output_type": "stream",
     "text": [
      "mu and k by hand:  2.67035375555 41.3480495503\n",
      "mu and k from fit function 2.67035368203 40.8666556123\n"
     ]
    }
   ],
   "source": [
    "data = [0.8*math.pi,0.9*math.pi]\n",
    "calc(data)"
   ]
  },
  {
   "cell_type": "code",
   "execution_count": 3,
   "metadata": {},
   "outputs": [
    {
     "name": "stdout",
     "output_type": "stream",
     "text": [
      "mu and k by hand:  -0.444112763401 1.63063518883\n",
      "mu and k from fit function -0.444100136745 1.60370152073\n"
     ]
    }
   ],
   "source": [
    "data3 = [-0.6525,-0.9307,1.4775,-0.7119]\n",
    "calc(data3)"
   ]
  },
  {
   "cell_type": "code",
   "execution_count": 4,
   "metadata": {},
   "outputs": [
    {
     "name": "stdout",
     "output_type": "stream",
     "text": [
      "mu and k by hand:  -2.34232077155 39.1744956099\n",
      "mu and k from fit function -2.34232086545 38.6941468888\n"
     ]
    }
   ],
   "source": [
    "data4 = [-2.4031,-2.3623,-2.5212,-2.0807]\n",
    "calc(data4)"
   ]
  },
  {
   "cell_type": "code",
   "execution_count": null,
   "metadata": {
    "collapsed": true
   },
   "outputs": [],
   "source": []
  }
 ],
 "metadata": {
  "kernelspec": {
   "display_name": "Python 3",
   "language": "python",
   "name": "python3"
  },
  "language_info": {
   "codemirror_mode": {
    "name": "ipython",
    "version": 3
   },
   "file_extension": ".py",
   "mimetype": "text/x-python",
   "name": "python",
   "nbconvert_exporter": "python",
   "pygments_lexer": "ipython3",
   "version": "3.6.1"
  }
 },
 "nbformat": 4,
 "nbformat_minor": 2
}
